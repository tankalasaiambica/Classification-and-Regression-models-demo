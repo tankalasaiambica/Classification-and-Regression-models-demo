{
 "cells": [
  {
   "cell_type": "markdown",
   "id": "460de61d",
   "metadata": {},
   "source": [
    "# importing necessary library"
   ]
  },
  {
   "cell_type": "code",
   "execution_count": 1,
   "id": "1d814c66",
   "metadata": {},
   "outputs": [],
   "source": [
    "import pandas as pd\n",
    "from pandas.plotting import autocorrelation_plot\n",
    "import numpy as np\n",
    "import matplotlib.pyplot as plt\n",
    "from sklearn.preprocessing import StandardScaler\n",
    "from sklearn.preprocessing import OneHotEncoder\n",
    "from sklearn.model_selection import train_test_split\n",
    "from sklearn.metrics import plot_confusion_matrix\n",
    "from sklearn.metrics import accuracy_score\n",
    "from sklearn.linear_model import LinearRegression\n",
    "import seaborn as sns\n",
    "from datetime import datetime"
   ]
  },
  {
   "cell_type": "code",
   "execution_count": 2,
   "id": "a87271a1",
   "metadata": {},
   "outputs": [
    {
     "data": {
      "text/html": [
       "<div>\n",
       "<style scoped>\n",
       "    .dataframe tbody tr th:only-of-type {\n",
       "        vertical-align: middle;\n",
       "    }\n",
       "\n",
       "    .dataframe tbody tr th {\n",
       "        vertical-align: top;\n",
       "    }\n",
       "\n",
       "    .dataframe thead th {\n",
       "        text-align: right;\n",
       "    }\n",
       "</style>\n",
       "<table border=\"1\" class=\"dataframe\">\n",
       "  <thead>\n",
       "    <tr style=\"text-align: right;\">\n",
       "      <th></th>\n",
       "      <th>Date</th>\n",
       "      <th>Temp</th>\n",
       "    </tr>\n",
       "  </thead>\n",
       "  <tbody>\n",
       "    <tr>\n",
       "      <th>0</th>\n",
       "      <td>01-01-1981</td>\n",
       "      <td>20.7</td>\n",
       "    </tr>\n",
       "    <tr>\n",
       "      <th>1</th>\n",
       "      <td>02-01-1981</td>\n",
       "      <td>17.9</td>\n",
       "    </tr>\n",
       "    <tr>\n",
       "      <th>2</th>\n",
       "      <td>03-01-1981</td>\n",
       "      <td>18.8</td>\n",
       "    </tr>\n",
       "    <tr>\n",
       "      <th>3</th>\n",
       "      <td>04-01-1981</td>\n",
       "      <td>14.6</td>\n",
       "    </tr>\n",
       "    <tr>\n",
       "      <th>4</th>\n",
       "      <td>05-01-1981</td>\n",
       "      <td>15.8</td>\n",
       "    </tr>\n",
       "  </tbody>\n",
       "</table>\n",
       "</div>"
      ],
      "text/plain": [
       "         Date  Temp\n",
       "0  01-01-1981  20.7\n",
       "1  02-01-1981  17.9\n",
       "2  03-01-1981  18.8\n",
       "3  04-01-1981  14.6\n",
       "4  05-01-1981  15.8"
      ]
     },
     "execution_count": 2,
     "metadata": {},
     "output_type": "execute_result"
    }
   ],
   "source": [
    "# reading the dataset\n",
    "data = pd.read_csv(\"E:\\download E\\d2.csv\")\n",
    "data.head()"
   ]
  },
  {
   "cell_type": "code",
   "execution_count": 3,
   "id": "a25b90c1",
   "metadata": {},
   "outputs": [
    {
     "data": {
      "text/plain": [
       "(3652, 2)"
      ]
     },
     "execution_count": 3,
     "metadata": {},
     "output_type": "execute_result"
    }
   ],
   "source": [
    "data.shape # shape of the dataset"
   ]
  },
  {
   "cell_type": "code",
   "execution_count": 4,
   "id": "17cce6cc",
   "metadata": {},
   "outputs": [
    {
     "name": "stdout",
     "output_type": "stream",
     "text": [
      "<class 'pandas.core.frame.DataFrame'>\n",
      "RangeIndex: 3652 entries, 0 to 3651\n",
      "Data columns (total 2 columns):\n",
      " #   Column  Non-Null Count  Dtype \n",
      "---  ------  --------------  ----- \n",
      " 0   Date    3650 non-null   object\n",
      " 1   Temp    3651 non-null   object\n",
      "dtypes: object(2)\n",
      "memory usage: 57.2+ KB\n"
     ]
    }
   ],
   "source": [
    "data.info() # info about the daata"
   ]
  },
  {
   "cell_type": "code",
   "execution_count": 5,
   "id": "aa9adb48",
   "metadata": {},
   "outputs": [
    {
     "data": {
      "text/plain": [
       "<AxesSubplot:>"
      ]
     },
     "execution_count": 5,
     "metadata": {},
     "output_type": "execute_result"
    },
    {
     "data": {
      "image/png": "[encoded data removed]",
      "text/plain": [
       "<Figure size 432x288 with 1 Axes>"
      ]
     },
     "metadata": {
      "needs_background": "light"
     },
     "output_type": "display_data"
    }
   ],
   "source": [
    "data['Temp'].value_counts().plot() "
   ]
  },
  {
   "cell_type": "code",
   "execution_count": 13,
   "id": "c65833c6",
   "metadata": {},
   "outputs": [
    {
     "data": {
      "text/plain": [
       "<AxesSubplot:xlabel='Date'>"
      ]
     },
     "execution_count": 13,
     "metadata": {},
     "output_type": "execute_result"
    },
    {
     "data": {
      "image/png": "[encoded data removed]",
      "text/plain": [
       "<Figure size 432x288 with 1 Axes>"
      ]
     },
     "metadata": {
      "needs_background": "light"
     },
     "output_type": "display_data"
    }
   ],
   "source": [
    "result = data.groupby(['Date']).size()\n",
    " \n",
    "# plot the result\n",
    "sns.barplot(x = result.index, y = result.values)"
   ]
  },
  {
   "cell_type": "code",
   "execution_count": 14,
   "id": "981047de",
   "metadata": {},
   "outputs": [
    {
     "data": {
      "text/plain": [
       "3"
      ]
     },
     "execution_count": 14,
     "metadata": {},
     "output_type": "execute_result"
    }
   ],
   "source": [
    "data.isnull().values.sum() # checking null values"
   ]
  },
  {
   "cell_type": "code",
   "execution_count": 15,
   "id": "952fdf76",
   "metadata": {},
   "outputs": [
    {
     "name": "stdout",
     "output_type": "stream",
     "text": [
      "     Date Temp\n",
      "3650  NaN  NaN\n",
      "3651  NaN     \n"
     ]
    }
   ],
   "source": [
    "# printing the null values and colums\n",
    "is_NaN = data.isnull()\n",
    "row_has_NaN = is_NaN.any(axis=1) \n",
    "rows_with_NaN = data[row_has_NaN]\n",
    "print(rows_with_NaN)"
   ]
  },
  {
   "cell_type": "code",
   "execution_count": 16,
   "id": "af42c213",
   "metadata": {},
   "outputs": [],
   "source": [
    "data.dropna(subset = [\"Date\"], inplace=True) # dropping null values"
   ]
  },
  {
   "cell_type": "code",
   "execution_count": 17,
   "id": "2943ce9c",
   "metadata": {},
   "outputs": [],
   "source": [
    "data.dropna(subset = [\"Temp\"], inplace=True)"
   ]
  },
  {
   "cell_type": "code",
   "execution_count": 18,
   "id": "c1a08519",
   "metadata": {},
   "outputs": [
    {
     "data": {
      "text/plain": [
       "False"
      ]
     },
     "execution_count": 18,
     "metadata": {},
     "output_type": "execute_result"
    }
   ],
   "source": [
    "data.isnull().values.any() # rechecking null values"
   ]
  },
  {
   "cell_type": "markdown",
   "id": "9c58e4ef",
   "metadata": {},
   "source": [
    "# converting the datatypes "
   ]
  },
  {
   "cell_type": "code",
   "execution_count": 19,
   "id": "54e6a128",
   "metadata": {},
   "outputs": [],
   "source": [
    "data['Date'] = pd.to_datetime(data['Date']) "
   ]
  },
  {
   "cell_type": "code",
   "execution_count": 20,
   "id": "1c694b47",
   "metadata": {},
   "outputs": [],
   "source": [
    "data[[\"Temp\"]] = data[[\"Temp\"]].apply(pd.to_numeric)\n"
   ]
  },
  {
   "cell_type": "code",
   "execution_count": 21,
   "id": "806806b6",
   "metadata": {
    "scrolled": true
   },
   "outputs": [
    {
     "name": "stdout",
     "output_type": "stream",
     "text": [
      "<class 'pandas.core.frame.DataFrame'>\n",
      "Int64Index: 3650 entries, 0 to 3649\n",
      "Data columns (total 2 columns):\n",
      " #   Column  Non-Null Count  Dtype  \n",
      "---  ------  --------------  -----  \n",
      " 0   Date    3650 non-null   int64  \n",
      " 1   Temp    3650 non-null   float64\n",
      "dtypes: float64(1), int64(1)\n",
      "memory usage: 85.5 KB\n"
     ]
    }
   ],
   "source": [
    "data = data.apply(pd.to_numeric, errors='coerce')\n",
    "data.info()"
   ]
  },
  {
   "cell_type": "code",
   "execution_count": null,
   "id": "8e3cf56e",
   "metadata": {
    "scrolled": false
   },
   "outputs": [],
   "source": [
    "data.plot( 'Date' , 'Temp')\n",
    "plt.figure(figsize=(18,6))\n",
    "# Alternatively, you can use .set_index \n",
    "# to set the data of each axis as follows:\n",
    "# df_days_calories.set_index('day')['calories'].plot();"
   ]
  },
  {
   "cell_type": "code",
   "execution_count": 22,
   "id": "e07993c9",
   "metadata": {},
   "outputs": [],
   "source": [
    "data['Temp'] = data['Temp'].astype(int)"
   ]
  },
  {
   "cell_type": "code",
   "execution_count": 23,
   "id": "5fc64e74",
   "metadata": {},
   "outputs": [
    {
     "name": "stdout",
     "output_type": "stream",
     "text": [
      "(3650, 1)\n"
     ]
    },
    {
     "data": {
      "text/html": [
       "<div>\n",
       "<style scoped>\n",
       "    .dataframe tbody tr th:only-of-type {\n",
       "        vertical-align: middle;\n",
       "    }\n",
       "\n",
       "    .dataframe tbody tr th {\n",
       "        vertical-align: top;\n",
       "    }\n",
       "\n",
       "    .dataframe thead th {\n",
       "        text-align: right;\n",
       "    }\n",
       "</style>\n",
       "<table border=\"1\" class=\"dataframe\">\n",
       "  <thead>\n",
       "    <tr style=\"text-align: right;\">\n",
       "      <th></th>\n",
       "      <th>Date</th>\n",
       "    </tr>\n",
       "  </thead>\n",
       "  <tbody>\n",
       "    <tr>\n",
       "      <th>0</th>\n",
       "      <td>347155200000000000</td>\n",
       "    </tr>\n",
       "    <tr>\n",
       "      <th>1</th>\n",
       "      <td>349833600000000000</td>\n",
       "    </tr>\n",
       "    <tr>\n",
       "      <th>2</th>\n",
       "      <td>352252800000000000</td>\n",
       "    </tr>\n",
       "    <tr>\n",
       "      <th>3</th>\n",
       "      <td>354931200000000000</td>\n",
       "    </tr>\n",
       "    <tr>\n",
       "      <th>4</th>\n",
       "      <td>357523200000000000</td>\n",
       "    </tr>\n",
       "    <tr>\n",
       "      <th>...</th>\n",
       "      <td>...</td>\n",
       "    </tr>\n",
       "    <tr>\n",
       "      <th>3645</th>\n",
       "      <td>662256000000000000</td>\n",
       "    </tr>\n",
       "    <tr>\n",
       "      <th>3646</th>\n",
       "      <td>662342400000000000</td>\n",
       "    </tr>\n",
       "    <tr>\n",
       "      <th>3647</th>\n",
       "      <td>662428800000000000</td>\n",
       "    </tr>\n",
       "    <tr>\n",
       "      <th>3648</th>\n",
       "      <td>662515200000000000</td>\n",
       "    </tr>\n",
       "    <tr>\n",
       "      <th>3649</th>\n",
       "      <td>662601600000000000</td>\n",
       "    </tr>\n",
       "  </tbody>\n",
       "</table>\n",
       "<p>3650 rows × 1 columns</p>\n",
       "</div>"
      ],
      "text/plain": [
       "                    Date\n",
       "0     347155200000000000\n",
       "1     349833600000000000\n",
       "2     352252800000000000\n",
       "3     354931200000000000\n",
       "4     357523200000000000\n",
       "...                  ...\n",
       "3645  662256000000000000\n",
       "3646  662342400000000000\n",
       "3647  662428800000000000\n",
       "3648  662515200000000000\n",
       "3649  662601600000000000\n",
       "\n",
       "[3650 rows x 1 columns]"
      ]
     },
     "execution_count": 23,
     "metadata": {},
     "output_type": "execute_result"
    }
   ],
   "source": [
    "# taking the first col as X\n",
    "X = data[data.columns[:1]]\n",
    "print(X.shape)\n",
    "X"
   ]
  },
  {
   "cell_type": "code",
   "execution_count": 24,
   "id": "5d7adacc",
   "metadata": {},
   "outputs": [
    {
     "name": "stdout",
     "output_type": "stream",
     "text": [
      "(3650,)\n"
     ]
    },
    {
     "data": {
      "text/plain": [
       "0       20\n",
       "1       17\n",
       "2       18\n",
       "3       14\n",
       "4       15\n",
       "        ..\n",
       "3645    14\n",
       "3646    13\n",
       "3647    13\n",
       "3648    15\n",
       "3649    13\n",
       "Name: Temp, Length: 3650, dtype: int32"
      ]
     },
     "execution_count": 24,
     "metadata": {},
     "output_type": "execute_result"
    }
   ],
   "source": [
    "# taking class label \n",
    "y = data['Temp']\n",
    "print(y.shape)\n",
    "y"
   ]
  },
  {
   "cell_type": "markdown",
   "id": "cbc586db",
   "metadata": {},
   "source": [
    "# spliting of data in 80:20 ratio"
   ]
  },
  {
   "cell_type": "code",
   "execution_count": 25,
   "id": "fb815f03",
   "metadata": {},
   "outputs": [],
   "source": [
    "X_train, X_test, y_train, y_test = train_test_split(X, y, test_size=0.2, random_state=0)"
   ]
  },
  {
   "cell_type": "code",
   "execution_count": 26,
   "id": "f09569d3",
   "metadata": {},
   "outputs": [],
   "source": [
    "reg = LinearRegression().fit(X, y) # fitting model"
   ]
  },
  {
   "cell_type": "code",
   "execution_count": 27,
   "id": "befd07d0",
   "metadata": {},
   "outputs": [],
   "source": [
    "y_pred=reg.predict(X_test) # predicting the model"
   ]
  },
  {
   "cell_type": "code",
   "execution_count": 28,
   "id": "b882c5e8",
   "metadata": {},
   "outputs": [
    {
     "data": {
      "text/plain": [
       "0.00048252670730886127"
      ]
     },
     "execution_count": 28,
     "metadata": {},
     "output_type": "execute_result"
    }
   ],
   "source": [
    " reg.score(X, y) # printing score"
   ]
  },
  {
   "cell_type": "markdown",
   "id": "3fe3125d",
   "metadata": {},
   "source": [
    "# using RandomForestClassifier"
   ]
  },
  {
   "cell_type": "code",
   "execution_count": 29,
   "id": "899a7941",
   "metadata": {},
   "outputs": [
    {
     "data": {
      "text/plain": [
       "RandomForestClassifier(max_depth=5, random_state=42)"
      ]
     },
     "execution_count": 29,
     "metadata": {},
     "output_type": "execute_result"
    }
   ],
   "source": [
    "from sklearn.ensemble import RandomForestClassifier\n",
    "rf=RandomForestClassifier(max_depth = 5, n_estimators=100, random_state = 42)\n",
    "rf.fit(X_train, y_train)"
   ]
  },
  {
   "cell_type": "code",
   "execution_count": 30,
   "id": "091424c4",
   "metadata": {},
   "outputs": [],
   "source": [
    "y_pred=rf.predict(X_test)# predicting the model"
   ]
  },
  {
   "cell_type": "code",
   "execution_count": 31,
   "id": "c1cdc8b2",
   "metadata": {},
   "outputs": [
    {
     "data": {
      "text/plain": [
       "0.18246575342465754"
      ]
     },
     "execution_count": 31,
     "metadata": {},
     "output_type": "execute_result"
    }
   ],
   "source": [
    " rf.score(X, y) # printing score"
   ]
  },
  {
   "cell_type": "code",
   "execution_count": null,
   "id": "7353b24e",
   "metadata": {},
   "outputs": [],
   "source": []
  }
 ],
 "metadata": {
  "kernelspec": {
   "display_name": "Python 3",
   "language": "python",
   "name": "python3"
  },
  "language_info": {
   "codemirror_mode": {
    "name": "ipython",
    "version": 3
   },
   "file_extension": ".py",
   "mimetype": "text/x-python",
   "name": "python",
   "nbconvert_exporter": "python",
   "pygments_lexer": "ipython3",
   "version": "3.8.10"
  }
 },
 "nbformat": 4,
 "nbformat_minor": 5
}
